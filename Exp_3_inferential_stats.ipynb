{
  "nbformat": 4,
  "nbformat_minor": 0,
  "metadata": {
    "colab": {
      "provenance": []
    },
    "kernelspec": {
      "name": "python3",
      "display_name": "Python 3"
    },
    "language_info": {
      "name": "python"
    }
  },
  "cells": [
    {
      "cell_type": "markdown",
      "source": [
        "Exp 3 To explore the inferential statistics t-test on the given dataset"
      ],
      "metadata": {
        "id": "lrSAKMxGjZkU"
      }
    },
    {
      "cell_type": "code",
      "execution_count": 1,
      "metadata": {
        "colab": {
          "base_uri": "https://localhost:8080/"
        },
        "id": "jlMJJhVYjW64",
        "outputId": "2951ea6e-d98a-4aec-cda5-af7ac3505a9c"
      },
      "outputs": [
        {
          "output_type": "stream",
          "name": "stdout",
          "text": [
            "Data Preview:\n",
            "    PassengerId           Name  Gender  Survived  Age\n",
            "0            1     John Smith    male         1   22\n",
            "1            2    Emily Clark  female         0   35\n",
            "2            3  William Jones    male         1   26\n",
            "3            4   Sophia Brown  female         0   40\n",
            "4            5   James Wilson    male         1   19\n",
            "\n",
            "T-Test Results:\n",
            "T-Statistic: -4.9597\n",
            "P-Value: 0.0032\n",
            "Reject the null hypothesis: There is a significant difference in average age between survivors and non-survivors.\n"
          ]
        }
      ],
      "source": [
        "#3 inferencial statistics t test\n",
        "\n",
        "import seaborn as sns\n",
        "import matplotlib.pyplot as plt\n",
        "import pandas as pd\n",
        "from scipy import stats\n",
        "\n",
        "# Simulated Titanic-like dataset with extra columns\n",
        "data = {\n",
        "    'PassengerId': [1, 2, 3, 4, 5, 6, 7, 8, 9, 10],\n",
        "    'Name': [\n",
        "        'John Smith', 'Emily Clark', 'William Jones', 'Sophia Brown', 'James Wilson',\n",
        "        'Olivia Taylor', 'Liam Davis', 'Emma Johnson', 'Noah Martinez', 'Ava Lee'\n",
        "    ],\n",
        "    'Gender': ['male', 'female', 'male', 'female', 'male', 'female', 'male', 'female', 'male', 'female'],\n",
        "    'Survived': [1, 0, 1, 0, 1, 0, 1, 0, 0, 1],\n",
        "    'Age': [22, 35, 26, 40, 19, 50, 28, 45, 60, 18]\n",
        "}\n",
        "df = pd.DataFrame(data)\n",
        "\n",
        "# Show the first few rows\n",
        "print(\"Data Preview:\\n\", df.head())\n",
        "\n",
        "# Drop missing values in the 'Age' column (not needed here, but for real data)\n",
        "df = df.dropna(subset=['Age'])\n",
        "\n",
        "# Split data into Survived and Not Survived groups\n",
        "survived_age = df[df[\"Survived\"] == 1][\"Age\"]\n",
        "not_survived_age = df[df[\"Survived\"] == 0][\"Age\"]\n",
        "\n",
        "# Perform independent t-test\n",
        "t_stat, p_value = stats.ttest_ind(survived_age, not_survived_age, equal_var=False)\n",
        "\n",
        "# Print the results\n",
        "print(\"\\nT-Test Results:\")\n",
        "print(f\"T-Statistic: {t_stat:.4f}\")\n",
        "print(f\"P-Value: {p_value:.4f}\")\n",
        "\n",
        "# Interpret the results\n",
        "alpha = 0.05\n",
        "if p_value < alpha:\n",
        "    print(\"Reject the null hypothesis: There is a significant difference in average age between survivors and non-survivors.\")\n",
        "else:\n",
        "    print(\"Fail to reject the null hypothesis: No significant difference in average age between survivors and non-survivors.\")\n"
      ]
    }
  ]
}